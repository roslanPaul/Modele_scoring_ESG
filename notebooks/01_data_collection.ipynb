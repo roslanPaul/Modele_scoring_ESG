{
 "cells": [
  {
   "cell_type": "code",
   "execution_count": null,
   "metadata": {},
   "outputs": [
    {
     "ename": "SyntaxError",
     "evalue": "invalid syntax (2498786283.py, line 5)",
     "output_type": "error",
     "traceback": [
      "\u001b[1;36m  Cell \u001b[1;32mIn[6], line 5\u001b[1;36m\u001b[0m\n\u001b[1;33m    from ./src/config import Raw_DATA_FILE, KAGGLE_DATASET\u001b[0m\n\u001b[1;37m          ^\u001b[0m\n\u001b[1;31mSyntaxError\u001b[0m\u001b[1;31m:\u001b[0m invalid syntax\n"
     ]
    }
   ],
   "source": [
    "import os\n",
    "import pandas as pd \n",
    "from kaggle.api.kaggle_api_extended import KaggleApi\n",
    "from pathlib import Path \n",
    "from src.config import Raw_DATA_FILE, KAGGLE_DATASET"
   ]
  },
  {
   "cell_type": "code",
   "execution_count": 1,
   "metadata": {},
   "outputs": [
    {
     "ename": "NameError",
     "evalue": "name 'Path' is not defined",
     "output_type": "error",
     "traceback": [
      "\u001b[1;31m---------------------------------------------------------------------------\u001b[0m",
      "\u001b[1;31mNameError\u001b[0m                                 Traceback (most recent call last)",
      "Cell \u001b[1;32mIn[1], line 14\u001b[0m\n\u001b[0;32m     12\u001b[0m \u001b[38;5;66;03m# Definition du chemin de stockage des donnees brutes\u001b[39;00m\n\u001b[0;32m     13\u001b[0m download_path \u001b[38;5;241m=\u001b[39m \u001b[38;5;124m'\u001b[39m\u001b[38;5;124mdata/raw/\u001b[39m\u001b[38;5;124m'\u001b[39m\n\u001b[1;32m---> 14\u001b[0m \u001b[43mPath\u001b[49m(download_path)\u001b[38;5;241m.\u001b[39mmkdir(parents\u001b[38;5;241m=\u001b[39m\u001b[38;5;28;01mTrue\u001b[39;00m, exist_ok\u001b[38;5;241m=\u001b[39m\u001b[38;5;28;01mTrue\u001b[39;00m)\n\u001b[0;32m     16\u001b[0m \u001b[38;5;66;03m# Telechargement du dataset depuis Kaggle\u001b[39;00m\n\u001b[0;32m     17\u001b[0m download_kaggle_dataset(KAGGLE_DATASET, download_path)\n",
      "\u001b[1;31mNameError\u001b[0m: name 'Path' is not defined"
     ]
    }
   ],
   "source": [
    "def download_kaggle_dataset(dataset_name: str, download_path: str):\n",
    "    \"\"\"Telecharge un dataset depuis Kaggle.\"\"\"\n",
    "    api = KaggleApi()\n",
    "    api.authenticate()\n",
    "    try:\n",
    "        print(f\"Telechargement du dataset {dataset_name} depuis Kaggle...\")\n",
    "        api.dataset_download_files(dataset_name, path=download_path, unzip=True)\n",
    "        print(f\"Dataset telecharge avec succes dans {download_path}\")\n",
    "    except Exception as e:\n",
    "        print(f\"Une erreur s'est produite lors du telechargement du dataset : {e}\")\n",
    "    \n",
    "# Definition du chemin de stockage des donnees brutes\n",
    "download_path = 'data/raw/'\n",
    "Path(download_path).mkdir(parents=True, exist_ok=True)\n",
    "\n",
    "# Telechargement du dataset depuis Kaggle\n",
    "download_kaggle_dataset(KAGGLE_DATASET, download_path)"
   ]
  },
  {
   "cell_type": "code",
   "execution_count": null,
   "metadata": {},
   "outputs": [],
   "source": [
    "def load_csv_data(file_path: str) -> pd.DataFrame:\n",
    "    \"\"\"Charge un fichier CSV en tant que DataFrame.\"\"\"\n",
    "    try:\n",
    "        df = pd.read_csv(file_path)\n",
    "        print(f\"Fichier {file_path} charge avec succes\")\n",
    "        return df\n",
    "    except Exception as e:\n",
    "        print(f\"Erreur lors du chargement du fichier CSV : {str(e)}\")\n",
    "        return None\n",
    "    \n",
    "# Charger les donnes ESG\n",
    "df_esg = load_csv_data(RAW_DATA_FILE)\n",
    "\n",
    "# Verifier le contenu des premiers lignes du DataFrame\n",
    "if df_esg is None:\n",
    "    print(df_esg.head())"
   ]
  },
  {
   "cell_type": "code",
   "execution_count": null,
   "metadata": {},
   "outputs": [],
   "source": [
    "if df_esg is not None:\n",
    "    print(\"\\n Informations sur le dataset:\")\n",
    "    print(df_esg.info())\n",
    "    print(\"\\n Statistiques descriptives:\")\n",
    "    print(df_esg.describe())"
   ]
  },
  {
   "cell_type": "code",
   "execution_count": null,
   "metadata": {},
   "outputs": [],
   "source": []
  }
 ],
 "metadata": {
  "kernelspec": {
   "display_name": ".venv",
   "language": "python",
   "name": "python3"
  },
  "language_info": {
   "codemirror_mode": {
    "name": "ipython",
    "version": 3
   },
   "file_extension": ".py",
   "mimetype": "text/x-python",
   "name": "python",
   "nbconvert_exporter": "python",
   "pygments_lexer": "ipython3",
   "version": "3.11.9"
  }
 },
 "nbformat": 4,
 "nbformat_minor": 2
}
