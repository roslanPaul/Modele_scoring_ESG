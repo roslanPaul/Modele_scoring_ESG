{
 "cells": [
  {
   "cell_type": "code",
   "execution_count": 1,
   "metadata": {},
   "outputs": [],
   "source": [
    "import os\n",
    "import sys\n",
    "import pandas as pd \n",
    "from kaggle.api.kaggle_api_extended import KaggleApi\n",
    "from pathlib import Path \n",
    "# Ajouter 'src' au sys.path\n",
    "sys.path.append(str(Path.cwd().parent / \"src\"))\n",
    "\n",
    "from config import RAW_DATA_FILE, KAGGLE_DATASET\n"
   ]
  },
  {
   "cell_type": "code",
   "execution_count": 2,
   "metadata": {},
   "outputs": [
    {
     "name": "stdout",
     "output_type": "stream",
     "text": [
      "Telechargement du dataset SP 500 ESG Risk Ratings depuis Kaggle...\n",
      "Dataset URL: https://www.kaggle.com/datasets/roslannzambanzamba/SP 500 ESG Risk Ratings\n",
      "Une erreur s'est produite lors du telechargement du dataset : (403)\n",
      "Reason: Forbidden\n",
      "HTTP response headers: HTTPHeaderDict({'Content-Type': 'application/json', 'Date': 'Wed, 05 Mar 2025 15:36:56 GMT', 'Access-Control-Allow-Credentials': 'true', 'Access-Control-Allow-Origin': '*', 'Set-Cookie': 'ka_sessionid=a7782f074b23bba5b5287c7d0711e435; max-age=2626560; path=/, GCLB=CKj_zvjzgdORrQEQAw; path=/; HttpOnly', 'Vary': 'Accept-Encoding', 'X-Kaggle-MillisecondsElapsed': '37', 'X-Kaggle-RequestId': 'c7d389c8fbe91ef8be95dc2684a583f8', 'X-Kaggle-ApiVersion': '1.6.17', 'X-Kaggle-HubVersion': '0.3.10', 'X-Frame-Options': 'SAMEORIGIN', 'Strict-Transport-Security': 'max-age=63072000; includeSubDomains; preload', 'Content-Security-Policy': \"object-src 'none'; script-src 'nonce-l0wdv/bLTiteDBv2fVCWvA==' 'report-sample' 'unsafe-inline' 'unsafe-eval' 'strict-dynamic' https: http:; base-uri 'none'; report-uri https://csp.withgoogle.com/csp/kaggle/20201130; frame-src 'self' https://www.kaggleusercontent.com https://www.youtube.com/embed/ https://polygraph-cool.github.io https://www.google.com/recaptcha/ https://www.docdroid.com https://www.docdroid.net https://kaggle-static.storage.googleapis.com https://kkb-production.jupyter-proxy.kaggle.net https://kkb-production.firebaseapp.com https://kaggle-metastore.firebaseapp.com https://apis.google.com https://content-sheets.googleapis.com/ https://accounts.google.com/ https://storage.googleapis.com https://docs.google.com https://drive.google.com https://calendar.google.com/ https://google.qualtrics.com/ ;\", 'X-Content-Type-Options': 'nosniff', 'Referrer-Policy': 'strict-origin-when-cross-origin', 'Via': '1.1 google', 'Alt-Svc': 'h3=\":443\"; ma=2592000,h3-29=\":443\"; ma=2592000', 'Transfer-Encoding': 'chunked'})\n",
      "HTTP response body: b'{\"code\":403,\"message\":\"Permission \\\\u0027datasets.get\\\\u0027 was denied\"}'\n",
      "\n"
     ]
    }
   ],
   "source": [
    "def download_kaggle_dataset(dataset_name: str, download_path: str):\n",
    "    \"\"\"Telecharge un dataset depuis Kaggle.\"\"\"\n",
    "    api = KaggleApi()\n",
    "    api.authenticate()\n",
    "    try:\n",
    "        print(f\"Telechargement du dataset {dataset_name} depuis Kaggle...\")\n",
    "        api.dataset_download_files(dataset_name, path=download_path, unzip=True)\n",
    "        print(f\"Dataset telecharge avec succes dans {download_path}\")\n",
    "    except Exception as e:\n",
    "        print(f\"Une erreur s'est produite lors du telechargement du dataset : {e}\")\n",
    "    \n",
    "# Definition du chemin de stockage des donnees brutes\n",
    "download_path = 'data/raw/'\n",
    "Path(download_path).mkdir(parents=True, exist_ok=True)\n",
    "\n",
    "# Telechargement du dataset depuis Kaggle\n",
    "download_kaggle_dataset(KAGGLE_DATASET, download_path)"
   ]
  },
  {
   "cell_type": "code",
   "execution_count": 3,
   "metadata": {},
   "outputs": [
    {
     "name": "stdout",
     "output_type": "stream",
     "text": [
      "Fichier C:\\Users\\HP\\OneDrive\\Documenten\\1-Projects\\Professionnel\\Projets pro\\Modele_scoring_ESG\\data\\raw\\SP 500 ESG Risk Ratings.csv charge avec succes\n"
     ]
    }
   ],
   "source": [
    "def load_csv_data(file_path: str) -> pd.DataFrame:\n",
    "    \"\"\"Charge un fichier CSV en tant que DataFrame.\"\"\"\n",
    "    try:\n",
    "        df = pd.read_csv(file_path)\n",
    "        print(f\"Fichier {file_path} charge avec succes\")\n",
    "        return df\n",
    "    except Exception as e:\n",
    "        print(f\"Erreur lors du chargement du fichier CSV : {str(e)}\")\n",
    "        return None\n",
    "    \n",
    "# Charger les donnes ESG\n",
    "df_esg = load_csv_data(RAW_DATA_FILE)\n",
    "\n",
    "# Verifier le contenu des premiers lignes du DataFrame\n",
    "if df_esg is None:\n",
    "    print(df_esg.head())"
   ]
  },
  {
   "cell_type": "code",
   "execution_count": 4,
   "metadata": {},
   "outputs": [
    {
     "name": "stdout",
     "output_type": "stream",
     "text": [
      "\n",
      " Informations sur le dataset:\n",
      "<class 'pandas.core.frame.DataFrame'>\n",
      "RangeIndex: 503 entries, 0 to 502\n",
      "Data columns (total 15 columns):\n",
      " #   Column                  Non-Null Count  Dtype  \n",
      "---  ------                  --------------  -----  \n",
      " 0   Symbol                  503 non-null    object \n",
      " 1   Name                    503 non-null    object \n",
      " 2   Address                 502 non-null    object \n",
      " 3   Sector                  502 non-null    object \n",
      " 4   Industry                502 non-null    object \n",
      " 5   Full Time Employees     498 non-null    object \n",
      " 6   Description             502 non-null    object \n",
      " 7   Total ESG Risk score    430 non-null    float64\n",
      " 8   Environment Risk Score  430 non-null    float64\n",
      " 9   Governance Risk Score   430 non-null    float64\n",
      " 10  Social Risk Score       430 non-null    float64\n",
      " 11  Controversy Level       430 non-null    object \n",
      " 12  Controversy Score       403 non-null    float64\n",
      " 13  ESG Risk Percentile     430 non-null    object \n",
      " 14  ESG Risk Level          430 non-null    object \n",
      "dtypes: float64(5), object(10)\n",
      "memory usage: 59.1+ KB\n",
      "None\n",
      "\n",
      " Statistiques descriptives:\n",
      "       Total ESG Risk score  Environment Risk Score  Governance Risk Score  \\\n",
      "count            430.000000              430.000000             430.000000   \n",
      "mean              21.533721                5.739767               6.725116   \n",
      "std                6.889176                5.092421               2.208085   \n",
      "min                7.100000                0.000000               3.000000   \n",
      "25%               16.400000                1.800000               5.300000   \n",
      "50%               21.050000                4.050000               6.100000   \n",
      "75%               26.000000                8.950000               7.675000   \n",
      "max               41.700000               25.000000              19.400000   \n",
      "\n",
      "       Social Risk Score  Controversy Score  \n",
      "count         430.000000         403.000000  \n",
      "mean            9.070465           2.007444  \n",
      "std             3.657924           0.793283  \n",
      "min             0.800000           1.000000  \n",
      "25%             6.700000           1.000000  \n",
      "50%             8.900000           2.000000  \n",
      "75%            11.200000           2.000000  \n",
      "max            22.500000           5.000000  \n"
     ]
    }
   ],
   "source": [
    "if df_esg is not None:\n",
    "    print(\"\\n Informations sur le dataset:\")\n",
    "    print(df_esg.info())\n",
    "    print(\"\\n Statistiques descriptives:\")\n",
    "    print(df_esg.describe())"
   ]
  },
  {
   "cell_type": "code",
   "execution_count": null,
   "metadata": {},
   "outputs": [
    {
     "name": "stdout",
     "output_type": "stream",
     "text": [
      "Les donnees brutes ont ete sauvegardees dans C:\\Users\\HP\\OneDrive\\Documenten\\1-Projects\\Professionnel\\Projets pro\\Modele_scoring_ESG\\data\\raw\\raw_esg_data.csv\n"
     ]
    },
    {
     "ename": "",
     "evalue": "",
     "output_type": "error",
     "traceback": [
      "\u001b[1;31mThe Kernel crashed while executing code in the current cell or a previous cell. \n",
      "\u001b[1;31mPlease review the code in the cell(s) to identify a possible cause of the failure. \n",
      "\u001b[1;31mClick <a href='https://aka.ms/vscodeJupyterKernelCrash'>here</a> for more info. \n",
      "\u001b[1;31mView Jupyter <a href='command:jupyter.viewOutput'>log</a> for further details."
     ]
    }
   ],
   "source": [
    "def save_raw_data(df: pd.DataFrame, output_folder: str, filename: str = \"raw_esg_data.csv\"):\n",
    "    \"\"\"Sauvegarde les donnees brutes dans un fichier CSV\"\"\"\n",
    "    try: \n",
    "        output_path = Path(output_folder)\n",
    "        output_path.mkdir(parents=True, exist_ok=True)\n",
    "        file_path = output_path / filename\n",
    "        df.to_csv(file_path, index=False)\n",
    "        print(f\"Les donnees brutes ont ete sauvegardees dans {file_path}\")\n",
    "    except Exception as e:\n",
    "        print(f\"Erreur lors de la sauvegarde des donnees brutes : {str(e)}\")\n",
    "\n",
    "# Sauvegarde des donnees brutes dans le dossier \"raw\"\n",
    "if df_esg is not None:\n",
    "    save_raw_data(df_esg, r\"C:\\Users\\HP\\OneDrive\\Documenten\\1-Projects\\Professionnel\\Projets pro\\Modele_scoring_ESG\\data\\raw\")\n",
    "\n"
   ]
  },
  {
   "cell_type": "code",
   "execution_count": null,
   "metadata": {},
   "outputs": [],
   "source": []
  }
 ],
 "metadata": {
  "kernelspec": {
   "display_name": ".venv",
   "language": "python",
   "name": "python3"
  },
  "language_info": {
   "codemirror_mode": {
    "name": "ipython",
    "version": 3
   },
   "file_extension": ".py",
   "mimetype": "text/x-python",
   "name": "python",
   "nbconvert_exporter": "python",
   "pygments_lexer": "ipython3",
   "version": "3.11.9"
  }
 },
 "nbformat": 4,
 "nbformat_minor": 2
}
